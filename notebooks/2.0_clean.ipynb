{
 "cells": [
  {
   "attachments": {},
   "cell_type": "markdown",
   "metadata": {},
   "source": [
    "The porpuse of this notebook is to clean data from null values, duplicates, structural errors, etc."
   ]
  },
  {
   "attachments": {},
   "cell_type": "markdown",
   "metadata": {},
   "source": [
    "# Import"
   ]
  },
  {
   "cell_type": "code",
   "execution_count": 1,
   "metadata": {},
   "outputs": [],
   "source": [
    "import pandas as pd\n",
    "import os"
   ]
  },
  {
   "attachments": {},
   "cell_type": "markdown",
   "metadata": {},
   "source": [
    "# Read data"
   ]
  },
  {
   "cell_type": "code",
   "execution_count": 2,
   "metadata": {},
   "outputs": [
    {
     "data": {
      "text/html": [
       "<div>\n",
       "<style scoped>\n",
       "    .dataframe tbody tr th:only-of-type {\n",
       "        vertical-align: middle;\n",
       "    }\n",
       "\n",
       "    .dataframe tbody tr th {\n",
       "        vertical-align: top;\n",
       "    }\n",
       "\n",
       "    .dataframe thead th {\n",
       "        text-align: right;\n",
       "    }\n",
       "</style>\n",
       "<table border=\"1\" class=\"dataframe\">\n",
       "  <thead>\n",
       "    <tr style=\"text-align: right;\">\n",
       "      <th></th>\n",
       "      <th>winery</th>\n",
       "      <th>wine</th>\n",
       "      <th>year</th>\n",
       "      <th>rating</th>\n",
       "      <th>num_reviews</th>\n",
       "      <th>country</th>\n",
       "      <th>region</th>\n",
       "      <th>price</th>\n",
       "      <th>type</th>\n",
       "      <th>body</th>\n",
       "      <th>acidity</th>\n",
       "    </tr>\n",
       "  </thead>\n",
       "  <tbody>\n",
       "    <tr>\n",
       "      <th>0</th>\n",
       "      <td>Teso La Monja</td>\n",
       "      <td>Tinto</td>\n",
       "      <td>2013</td>\n",
       "      <td>4.9</td>\n",
       "      <td>58</td>\n",
       "      <td>Espana</td>\n",
       "      <td>Toro</td>\n",
       "      <td>995.00</td>\n",
       "      <td>Toro Red</td>\n",
       "      <td>5.0</td>\n",
       "      <td>3.0</td>\n",
       "    </tr>\n",
       "    <tr>\n",
       "      <th>1</th>\n",
       "      <td>Artadi</td>\n",
       "      <td>Vina El Pison</td>\n",
       "      <td>2018</td>\n",
       "      <td>4.9</td>\n",
       "      <td>31</td>\n",
       "      <td>Espana</td>\n",
       "      <td>Vino de Espana</td>\n",
       "      <td>313.50</td>\n",
       "      <td>Tempranillo</td>\n",
       "      <td>4.0</td>\n",
       "      <td>2.0</td>\n",
       "    </tr>\n",
       "    <tr>\n",
       "      <th>2</th>\n",
       "      <td>Vega Sicilia</td>\n",
       "      <td>Unico</td>\n",
       "      <td>2009</td>\n",
       "      <td>4.8</td>\n",
       "      <td>1793</td>\n",
       "      <td>Espana</td>\n",
       "      <td>Ribera del Duero</td>\n",
       "      <td>324.95</td>\n",
       "      <td>Ribera Del Duero Red</td>\n",
       "      <td>5.0</td>\n",
       "      <td>3.0</td>\n",
       "    </tr>\n",
       "  </tbody>\n",
       "</table>\n",
       "</div>"
      ],
      "text/plain": [
       "          winery           wine  year  rating  num_reviews country  \\\n",
       "0  Teso La Monja          Tinto  2013     4.9           58  Espana   \n",
       "1         Artadi  Vina El Pison  2018     4.9           31  Espana   \n",
       "2   Vega Sicilia          Unico  2009     4.8         1793  Espana   \n",
       "\n",
       "             region   price                  type  body  acidity  \n",
       "0              Toro  995.00              Toro Red   5.0      3.0  \n",
       "1    Vino de Espana  313.50           Tempranillo   4.0      2.0  \n",
       "2  Ribera del Duero  324.95  Ribera Del Duero Red   5.0      3.0  "
      ]
     },
     "execution_count": 2,
     "metadata": {},
     "output_type": "execute_result"
    }
   ],
   "source": [
    "FILE_PATH = os.path.join(os.pardir, 'data','raw','wines_SPA.csv')\n",
    "data = pd.read_csv(FILE_PATH)\n",
    "data.head(3)"
   ]
  },
  {
   "attachments": {},
   "cell_type": "markdown",
   "metadata": {},
   "source": [
    "# Dimensions"
   ]
  },
  {
   "cell_type": "code",
   "execution_count": 3,
   "metadata": {},
   "outputs": [
    {
     "data": {
      "text/plain": [
       "(7500, 11)"
      ]
     },
     "execution_count": 3,
     "metadata": {},
     "output_type": "execute_result"
    }
   ],
   "source": [
    "data.shape"
   ]
  },
  {
   "attachments": {},
   "cell_type": "markdown",
   "metadata": {},
   "source": [
    "# Dtypes"
   ]
  },
  {
   "cell_type": "code",
   "execution_count": 4,
   "metadata": {},
   "outputs": [
    {
     "data": {
      "text/plain": [
       "winery          object\n",
       "wine            object\n",
       "year            object\n",
       "rating         float64\n",
       "num_reviews      int64\n",
       "country         object\n",
       "region          object\n",
       "price          float64\n",
       "type            object\n",
       "body           float64\n",
       "acidity        float64\n",
       "dtype: object"
      ]
     },
     "execution_count": 4,
     "metadata": {},
     "output_type": "execute_result"
    }
   ],
   "source": [
    "data.dtypes"
   ]
  },
  {
   "attachments": {},
   "cell_type": "markdown",
   "metadata": {},
   "source": [
    "Q1: Why is the year an object data type if it should be an integer?"
   ]
  },
  {
   "cell_type": "code",
   "execution_count": 5,
   "metadata": {},
   "outputs": [
    {
     "data": {
      "text/plain": [
       "array(['2013', '2018', '2009', '1999', '1996', '1998', '2010', '1995',\n",
       "       '2015', '2011', '2016', '1970', '1946', '1962', '2019', '2004',\n",
       "       'N.V.', '1931', '1979', '2005', '2020', '2014', '1985', '1929',\n",
       "       '2007', '2012', '2017', '2008', nan, '2006', '2000', '2003',\n",
       "       '2002', '1991', '1994', '1990', '1989', '1987', '1986', '1981',\n",
       "       '2001', '1968', '1964', '1982', '1974', '1983', '1955', '1980',\n",
       "       '1972', '1953', '1958', '1942', '1965', '1992', '1973', '1997',\n",
       "       '1967', '1975', '1910', '1961', '1954', '1988', '1969', '1951',\n",
       "       '1928', '1976', '1949', '2021', '1959', '1922', '1978', '1925'],\n",
       "      dtype=object)"
      ]
     },
     "execution_count": 5,
     "metadata": {},
     "output_type": "execute_result"
    }
   ],
   "source": [
    "data['year'].unique()"
   ]
  },
  {
   "attachments": {},
   "cell_type": "markdown",
   "metadata": {},
   "source": [
    "It is observed that there are null values and the value \"N.V.\", which should be observed to which registers it belongs and evaluate some actions to be done."
   ]
  },
  {
   "attachments": {},
   "cell_type": "markdown",
   "metadata": {},
   "source": [
    "Q2: To which registry does \"N.V\" belongs?"
   ]
  },
  {
   "cell_type": "code",
   "execution_count": 6,
   "metadata": {},
   "outputs": [
    {
     "data": {
      "text/html": [
       "<div>\n",
       "<style scoped>\n",
       "    .dataframe tbody tr th:only-of-type {\n",
       "        vertical-align: middle;\n",
       "    }\n",
       "\n",
       "    .dataframe tbody tr th {\n",
       "        vertical-align: top;\n",
       "    }\n",
       "\n",
       "    .dataframe thead th {\n",
       "        text-align: right;\n",
       "    }\n",
       "</style>\n",
       "<table border=\"1\" class=\"dataframe\">\n",
       "  <thead>\n",
       "    <tr style=\"text-align: right;\">\n",
       "      <th></th>\n",
       "      <th>winery</th>\n",
       "      <th>wine</th>\n",
       "      <th>year</th>\n",
       "      <th>rating</th>\n",
       "      <th>num_reviews</th>\n",
       "      <th>country</th>\n",
       "      <th>region</th>\n",
       "      <th>price</th>\n",
       "      <th>type</th>\n",
       "      <th>body</th>\n",
       "      <th>acidity</th>\n",
       "    </tr>\n",
       "  </thead>\n",
       "  <tbody>\n",
       "    <tr>\n",
       "      <th>20</th>\n",
       "      <td>Valdespino</td>\n",
       "      <td>Toneles Moscatel</td>\n",
       "      <td>N.V.</td>\n",
       "      <td>4.8</td>\n",
       "      <td>174</td>\n",
       "      <td>Espana</td>\n",
       "      <td>Jerez-Xeres-Sherry</td>\n",
       "      <td>253.00</td>\n",
       "      <td>Sherry</td>\n",
       "      <td>4.0</td>\n",
       "      <td>3.0</td>\n",
       "    </tr>\n",
       "    <tr>\n",
       "      <th>133</th>\n",
       "      <td>Barbadillo</td>\n",
       "      <td>Reliquia Palo Cortado Sherry</td>\n",
       "      <td>N.V.</td>\n",
       "      <td>4.7</td>\n",
       "      <td>58</td>\n",
       "      <td>Espana</td>\n",
       "      <td>Jerez Palo Cortado</td>\n",
       "      <td>380.00</td>\n",
       "      <td>Sherry</td>\n",
       "      <td>4.0</td>\n",
       "      <td>3.0</td>\n",
       "    </tr>\n",
       "    <tr>\n",
       "      <th>142</th>\n",
       "      <td>Alvear</td>\n",
       "      <td>Abuelo Diego Palo Cortado</td>\n",
       "      <td>N.V.</td>\n",
       "      <td>4.7</td>\n",
       "      <td>42</td>\n",
       "      <td>Espana</td>\n",
       "      <td>Montilla-Moriles</td>\n",
       "      <td>114.28</td>\n",
       "      <td>Pedro Ximenez</td>\n",
       "      <td>5.0</td>\n",
       "      <td>1.0</td>\n",
       "    </tr>\n",
       "    <tr>\n",
       "      <th>143</th>\n",
       "      <td>Equipo Navazos</td>\n",
       "      <td>La Bota 78 de Oloroso</td>\n",
       "      <td>N.V.</td>\n",
       "      <td>4.7</td>\n",
       "      <td>41</td>\n",
       "      <td>Espana</td>\n",
       "      <td>Manzanilla</td>\n",
       "      <td>95.57</td>\n",
       "      <td>Sherry</td>\n",
       "      <td>4.0</td>\n",
       "      <td>3.0</td>\n",
       "    </tr>\n",
       "    <tr>\n",
       "      <th>267</th>\n",
       "      <td>Osborne</td>\n",
       "      <td>Solera India Oloroso Rare Sherry</td>\n",
       "      <td>N.V.</td>\n",
       "      <td>4.6</td>\n",
       "      <td>74</td>\n",
       "      <td>Espana</td>\n",
       "      <td>Jerez-Xeres-Sherry</td>\n",
       "      <td>189.99</td>\n",
       "      <td>Sherry</td>\n",
       "      <td>4.0</td>\n",
       "      <td>3.0</td>\n",
       "    </tr>\n",
       "    <tr>\n",
       "      <th>...</th>\n",
       "      <td>...</td>\n",
       "      <td>...</td>\n",
       "      <td>...</td>\n",
       "      <td>...</td>\n",
       "      <td>...</td>\n",
       "      <td>...</td>\n",
       "      <td>...</td>\n",
       "      <td>...</td>\n",
       "      <td>...</td>\n",
       "      <td>...</td>\n",
       "      <td>...</td>\n",
       "    </tr>\n",
       "    <tr>\n",
       "      <th>7388</th>\n",
       "      <td>Lustau</td>\n",
       "      <td>Candela Cream Dulce Sweet</td>\n",
       "      <td>N.V.</td>\n",
       "      <td>4.2</td>\n",
       "      <td>405</td>\n",
       "      <td>Espana</td>\n",
       "      <td>Jerez-Xeres-Sherry</td>\n",
       "      <td>7.10</td>\n",
       "      <td>Sherry</td>\n",
       "      <td>4.0</td>\n",
       "      <td>3.0</td>\n",
       "    </tr>\n",
       "    <tr>\n",
       "      <th>7413</th>\n",
       "      <td>Lustau</td>\n",
       "      <td>Candela Cream Dulce Sweet</td>\n",
       "      <td>N.V.</td>\n",
       "      <td>4.2</td>\n",
       "      <td>405</td>\n",
       "      <td>Espana</td>\n",
       "      <td>Jerez-Xeres-Sherry</td>\n",
       "      <td>7.10</td>\n",
       "      <td>Sherry</td>\n",
       "      <td>4.0</td>\n",
       "      <td>3.0</td>\n",
       "    </tr>\n",
       "    <tr>\n",
       "      <th>7438</th>\n",
       "      <td>Lustau</td>\n",
       "      <td>Candela Cream Dulce Sweet</td>\n",
       "      <td>N.V.</td>\n",
       "      <td>4.2</td>\n",
       "      <td>405</td>\n",
       "      <td>Espana</td>\n",
       "      <td>Jerez-Xeres-Sherry</td>\n",
       "      <td>7.10</td>\n",
       "      <td>Sherry</td>\n",
       "      <td>4.0</td>\n",
       "      <td>3.0</td>\n",
       "    </tr>\n",
       "    <tr>\n",
       "      <th>7463</th>\n",
       "      <td>Lustau</td>\n",
       "      <td>Candela Cream Dulce Sweet</td>\n",
       "      <td>N.V.</td>\n",
       "      <td>4.2</td>\n",
       "      <td>405</td>\n",
       "      <td>Espana</td>\n",
       "      <td>Jerez-Xeres-Sherry</td>\n",
       "      <td>7.10</td>\n",
       "      <td>Sherry</td>\n",
       "      <td>4.0</td>\n",
       "      <td>3.0</td>\n",
       "    </tr>\n",
       "    <tr>\n",
       "      <th>7488</th>\n",
       "      <td>Lustau</td>\n",
       "      <td>Candela Cream Dulce Sweet</td>\n",
       "      <td>N.V.</td>\n",
       "      <td>4.2</td>\n",
       "      <td>405</td>\n",
       "      <td>Espana</td>\n",
       "      <td>Jerez-Xeres-Sherry</td>\n",
       "      <td>7.10</td>\n",
       "      <td>Sherry</td>\n",
       "      <td>4.0</td>\n",
       "      <td>3.0</td>\n",
       "    </tr>\n",
       "  </tbody>\n",
       "</table>\n",
       "<p>288 rows × 11 columns</p>\n",
       "</div>"
      ],
      "text/plain": [
       "              winery                              wine  year  rating  \\\n",
       "20        Valdespino                  Toneles Moscatel  N.V.     4.8   \n",
       "133       Barbadillo      Reliquia Palo Cortado Sherry  N.V.     4.7   \n",
       "142           Alvear         Abuelo Diego Palo Cortado  N.V.     4.7   \n",
       "143   Equipo Navazos             La Bota 78 de Oloroso  N.V.     4.7   \n",
       "267          Osborne  Solera India Oloroso Rare Sherry  N.V.     4.6   \n",
       "...              ...                               ...   ...     ...   \n",
       "7388          Lustau         Candela Cream Dulce Sweet  N.V.     4.2   \n",
       "7413          Lustau         Candela Cream Dulce Sweet  N.V.     4.2   \n",
       "7438          Lustau         Candela Cream Dulce Sweet  N.V.     4.2   \n",
       "7463          Lustau         Candela Cream Dulce Sweet  N.V.     4.2   \n",
       "7488          Lustau         Candela Cream Dulce Sweet  N.V.     4.2   \n",
       "\n",
       "      num_reviews country              region   price           type  body  \\\n",
       "20            174  Espana  Jerez-Xeres-Sherry  253.00         Sherry   4.0   \n",
       "133            58  Espana  Jerez Palo Cortado  380.00         Sherry   4.0   \n",
       "142            42  Espana    Montilla-Moriles  114.28  Pedro Ximenez   5.0   \n",
       "143            41  Espana          Manzanilla   95.57         Sherry   4.0   \n",
       "267            74  Espana  Jerez-Xeres-Sherry  189.99         Sherry   4.0   \n",
       "...           ...     ...                 ...     ...            ...   ...   \n",
       "7388          405  Espana  Jerez-Xeres-Sherry    7.10         Sherry   4.0   \n",
       "7413          405  Espana  Jerez-Xeres-Sherry    7.10         Sherry   4.0   \n",
       "7438          405  Espana  Jerez-Xeres-Sherry    7.10         Sherry   4.0   \n",
       "7463          405  Espana  Jerez-Xeres-Sherry    7.10         Sherry   4.0   \n",
       "7488          405  Espana  Jerez-Xeres-Sherry    7.10         Sherry   4.0   \n",
       "\n",
       "      acidity  \n",
       "20        3.0  \n",
       "133       3.0  \n",
       "142       1.0  \n",
       "143       3.0  \n",
       "267       3.0  \n",
       "...       ...  \n",
       "7388      3.0  \n",
       "7413      3.0  \n",
       "7438      3.0  \n",
       "7463      3.0  \n",
       "7488      3.0  \n",
       "\n",
       "[288 rows x 11 columns]"
      ]
     },
     "execution_count": 6,
     "metadata": {},
     "output_type": "execute_result"
    }
   ],
   "source": [
    "data[data['year']==\"N.V.\"]"
   ]
  },
  {
   "cell_type": "code",
   "execution_count": null,
   "metadata": {},
   "outputs": [],
   "source": []
  }
 ],
 "metadata": {
  "kernelspec": {
   "display_name": "Python 3.9.13 ('wine_model')",
   "language": "python",
   "name": "python3"
  },
  "language_info": {
   "codemirror_mode": {
    "name": "ipython",
    "version": 3
   },
   "file_extension": ".py",
   "mimetype": "text/x-python",
   "name": "python",
   "nbconvert_exporter": "python",
   "pygments_lexer": "ipython3",
   "version": "3.9.13"
  },
  "orig_nbformat": 4,
  "vscode": {
   "interpreter": {
    "hash": "3cf573ff49d93c5ed50869cee264a81bd4c9c8674e02f9e227694136daee8bdf"
   }
  }
 },
 "nbformat": 4,
 "nbformat_minor": 2
}
