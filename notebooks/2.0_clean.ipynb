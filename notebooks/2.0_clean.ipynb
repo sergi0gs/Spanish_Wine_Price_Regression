{
 "cells": [
  {
   "attachments": {},
   "cell_type": "markdown",
   "metadata": {},
   "source": [
    "The porpuse of this notebook is to clean data from null values, duplicates, structural errors, etc."
   ]
  },
  {
   "attachments": {},
   "cell_type": "markdown",
   "metadata": {},
   "source": [
    "# Import"
   ]
  },
  {
   "cell_type": "code",
   "execution_count": 28,
   "metadata": {},
   "outputs": [],
   "source": [
    "import pandas as pd\n",
    "import numpy as np\n",
    "import os"
   ]
  },
  {
   "attachments": {},
   "cell_type": "markdown",
   "metadata": {},
   "source": [
    "# Read data"
   ]
  },
  {
   "cell_type": "code",
   "execution_count": 3,
   "metadata": {},
   "outputs": [
    {
     "data": {
      "text/html": [
       "<div>\n",
       "<style scoped>\n",
       "    .dataframe tbody tr th:only-of-type {\n",
       "        vertical-align: middle;\n",
       "    }\n",
       "\n",
       "    .dataframe tbody tr th {\n",
       "        vertical-align: top;\n",
       "    }\n",
       "\n",
       "    .dataframe thead th {\n",
       "        text-align: right;\n",
       "    }\n",
       "</style>\n",
       "<table border=\"1\" class=\"dataframe\">\n",
       "  <thead>\n",
       "    <tr style=\"text-align: right;\">\n",
       "      <th></th>\n",
       "      <th>winery</th>\n",
       "      <th>wine</th>\n",
       "      <th>year</th>\n",
       "      <th>rating</th>\n",
       "      <th>num_reviews</th>\n",
       "      <th>country</th>\n",
       "      <th>region</th>\n",
       "      <th>price</th>\n",
       "      <th>type</th>\n",
       "      <th>body</th>\n",
       "      <th>acidity</th>\n",
       "    </tr>\n",
       "  </thead>\n",
       "  <tbody>\n",
       "    <tr>\n",
       "      <th>0</th>\n",
       "      <td>Teso La Monja</td>\n",
       "      <td>Tinto</td>\n",
       "      <td>2013</td>\n",
       "      <td>4.9</td>\n",
       "      <td>58</td>\n",
       "      <td>Espana</td>\n",
       "      <td>Toro</td>\n",
       "      <td>995.00</td>\n",
       "      <td>Toro Red</td>\n",
       "      <td>5.0</td>\n",
       "      <td>3.0</td>\n",
       "    </tr>\n",
       "    <tr>\n",
       "      <th>1</th>\n",
       "      <td>Artadi</td>\n",
       "      <td>Vina El Pison</td>\n",
       "      <td>2018</td>\n",
       "      <td>4.9</td>\n",
       "      <td>31</td>\n",
       "      <td>Espana</td>\n",
       "      <td>Vino de Espana</td>\n",
       "      <td>313.50</td>\n",
       "      <td>Tempranillo</td>\n",
       "      <td>4.0</td>\n",
       "      <td>2.0</td>\n",
       "    </tr>\n",
       "    <tr>\n",
       "      <th>2</th>\n",
       "      <td>Vega Sicilia</td>\n",
       "      <td>Unico</td>\n",
       "      <td>2009</td>\n",
       "      <td>4.8</td>\n",
       "      <td>1793</td>\n",
       "      <td>Espana</td>\n",
       "      <td>Ribera del Duero</td>\n",
       "      <td>324.95</td>\n",
       "      <td>Ribera Del Duero Red</td>\n",
       "      <td>5.0</td>\n",
       "      <td>3.0</td>\n",
       "    </tr>\n",
       "  </tbody>\n",
       "</table>\n",
       "</div>"
      ],
      "text/plain": [
       "          winery           wine  year  rating  num_reviews country  \\\n",
       "0  Teso La Monja          Tinto  2013     4.9           58  Espana   \n",
       "1         Artadi  Vina El Pison  2018     4.9           31  Espana   \n",
       "2   Vega Sicilia          Unico  2009     4.8         1793  Espana   \n",
       "\n",
       "             region   price                  type  body  acidity  \n",
       "0              Toro  995.00              Toro Red   5.0      3.0  \n",
       "1    Vino de Espana  313.50           Tempranillo   4.0      2.0  \n",
       "2  Ribera del Duero  324.95  Ribera Del Duero Red   5.0      3.0  "
      ]
     },
     "execution_count": 3,
     "metadata": {},
     "output_type": "execute_result"
    }
   ],
   "source": [
    "FILE_PATH = os.path.join(os.pardir, 'data','raw','wines_SPA.csv')\n",
    "data = pd.read_csv(FILE_PATH)\n",
    "data.head(3)"
   ]
  },
  {
   "attachments": {},
   "cell_type": "markdown",
   "metadata": {},
   "source": [
    "# Dimensions"
   ]
  },
  {
   "cell_type": "code",
   "execution_count": 4,
   "metadata": {},
   "outputs": [
    {
     "data": {
      "text/plain": [
       "(7500, 11)"
      ]
     },
     "execution_count": 4,
     "metadata": {},
     "output_type": "execute_result"
    }
   ],
   "source": [
    "data.shape"
   ]
  },
  {
   "attachments": {},
   "cell_type": "markdown",
   "metadata": {},
   "source": [
    "# Dtypes"
   ]
  },
  {
   "cell_type": "code",
   "execution_count": 5,
   "metadata": {},
   "outputs": [
    {
     "data": {
      "text/plain": [
       "winery          object\n",
       "wine            object\n",
       "year            object\n",
       "rating         float64\n",
       "num_reviews      int64\n",
       "country         object\n",
       "region          object\n",
       "price          float64\n",
       "type            object\n",
       "body           float64\n",
       "acidity        float64\n",
       "dtype: object"
      ]
     },
     "execution_count": 5,
     "metadata": {},
     "output_type": "execute_result"
    }
   ],
   "source": [
    "data.dtypes"
   ]
  },
  {
   "attachments": {},
   "cell_type": "markdown",
   "metadata": {},
   "source": [
    "# Nulls"
   ]
  },
  {
   "cell_type": "code",
   "execution_count": 25,
   "metadata": {},
   "outputs": [
    {
     "data": {
      "text/plain": [
       "winery            0\n",
       "wine              0\n",
       "year              2\n",
       "rating            0\n",
       "num_reviews       0\n",
       "country           0\n",
       "region            0\n",
       "price             0\n",
       "type            545\n",
       "body           1169\n",
       "acidity        1169\n",
       "dtype: int64"
      ]
     },
     "execution_count": 25,
     "metadata": {},
     "output_type": "execute_result"
    }
   ],
   "source": [
    "data.isnull().sum()"
   ]
  },
  {
   "cell_type": "code",
   "execution_count": 31,
   "metadata": {},
   "outputs": [
    {
     "data": {
      "text/plain": [
       "winery          0.000000\n",
       "wine            0.000000\n",
       "year            0.026667\n",
       "rating          0.000000\n",
       "num_reviews     0.000000\n",
       "country         0.000000\n",
       "region          0.000000\n",
       "price           0.000000\n",
       "type            7.266667\n",
       "body           15.586667\n",
       "acidity        15.586667\n",
       "dtype: float64"
      ]
     },
     "execution_count": 31,
     "metadata": {},
     "output_type": "execute_result"
    }
   ],
   "source": [
    "# Nulls in percentage\n",
    "(data.isnull().sum() / len(data))*100"
   ]
  },
  {
   "attachments": {},
   "cell_type": "markdown",
   "metadata": {},
   "source": [
    "# Q1: How resolve null values problem of \"body\", \"acidity\" and \"type\"?"
   ]
  },
  {
   "attachments": {},
   "cell_type": "markdown",
   "metadata": {},
   "source": [
    "## Are the null values of them the same index?"
   ]
  },
  {
   "cell_type": "code",
   "execution_count": 43,
   "metadata": {},
   "outputs": [
    {
     "data": {
      "text/plain": [
       "1169"
      ]
     },
     "execution_count": 43,
     "metadata": {},
     "output_type": "execute_result"
    }
   ],
   "source": [
    "len(set(data[data['body'].isnull()].index) \\\n",
    "  & set(data[data['acidity'].isnull()].index))"
   ]
  },
  {
   "cell_type": "code",
   "execution_count": 42,
   "metadata": {},
   "outputs": [
    {
     "data": {
      "text/plain": [
       "545"
      ]
     },
     "execution_count": 42,
     "metadata": {},
     "output_type": "execute_result"
    }
   ],
   "source": [
    "len(set(data[data['body'].isnull()].index) \\\n",
    "  & set(data[data['acidity'].isnull()].index)\\\n",
    "  & set(data[data['type'].isnull()].index))"
   ]
  },
  {
   "attachments": {},
   "cell_type": "markdown",
   "metadata": {},
   "source": [
    "It is verified that the three null parameters belong to the same indexes."
   ]
  },
  {
   "attachments": {},
   "cell_type": "markdown",
   "metadata": {},
   "source": [
    "## Is it advisable to remove null data?"
   ]
  },
  {
   "cell_type": "code",
   "execution_count": 45,
   "metadata": {},
   "outputs": [
    {
     "data": {
      "text/html": [
       "<div>\n",
       "<style scoped>\n",
       "    .dataframe tbody tr th:only-of-type {\n",
       "        vertical-align: middle;\n",
       "    }\n",
       "\n",
       "    .dataframe tbody tr th {\n",
       "        vertical-align: top;\n",
       "    }\n",
       "\n",
       "    .dataframe thead th {\n",
       "        text-align: right;\n",
       "    }\n",
       "</style>\n",
       "<table border=\"1\" class=\"dataframe\">\n",
       "  <thead>\n",
       "    <tr style=\"text-align: right;\">\n",
       "      <th></th>\n",
       "      <th>rating</th>\n",
       "      <th>num_reviews</th>\n",
       "      <th>price</th>\n",
       "      <th>body</th>\n",
       "      <th>acidity</th>\n",
       "    </tr>\n",
       "  </thead>\n",
       "  <tbody>\n",
       "    <tr>\n",
       "      <th>count</th>\n",
       "      <td>7500.00</td>\n",
       "      <td>7500.00</td>\n",
       "      <td>7500.00</td>\n",
       "      <td>6331.00</td>\n",
       "      <td>6331.00</td>\n",
       "    </tr>\n",
       "    <tr>\n",
       "      <th>mean</th>\n",
       "      <td>4.25</td>\n",
       "      <td>451.11</td>\n",
       "      <td>60.10</td>\n",
       "      <td>4.16</td>\n",
       "      <td>2.95</td>\n",
       "    </tr>\n",
       "    <tr>\n",
       "      <th>std</th>\n",
       "      <td>0.12</td>\n",
       "      <td>723.00</td>\n",
       "      <td>150.36</td>\n",
       "      <td>0.58</td>\n",
       "      <td>0.25</td>\n",
       "    </tr>\n",
       "    <tr>\n",
       "      <th>min</th>\n",
       "      <td>4.20</td>\n",
       "      <td>25.00</td>\n",
       "      <td>4.99</td>\n",
       "      <td>2.00</td>\n",
       "      <td>1.00</td>\n",
       "    </tr>\n",
       "    <tr>\n",
       "      <th>25%</th>\n",
       "      <td>4.20</td>\n",
       "      <td>389.00</td>\n",
       "      <td>18.90</td>\n",
       "      <td>4.00</td>\n",
       "      <td>3.00</td>\n",
       "    </tr>\n",
       "    <tr>\n",
       "      <th>50%</th>\n",
       "      <td>4.20</td>\n",
       "      <td>404.00</td>\n",
       "      <td>28.53</td>\n",
       "      <td>4.00</td>\n",
       "      <td>3.00</td>\n",
       "    </tr>\n",
       "    <tr>\n",
       "      <th>75%</th>\n",
       "      <td>4.20</td>\n",
       "      <td>415.00</td>\n",
       "      <td>51.35</td>\n",
       "      <td>5.00</td>\n",
       "      <td>3.00</td>\n",
       "    </tr>\n",
       "    <tr>\n",
       "      <th>max</th>\n",
       "      <td>4.90</td>\n",
       "      <td>32624.00</td>\n",
       "      <td>3119.08</td>\n",
       "      <td>5.00</td>\n",
       "      <td>3.00</td>\n",
       "    </tr>\n",
       "  </tbody>\n",
       "</table>\n",
       "</div>"
      ],
      "text/plain": [
       "        rating  num_reviews    price     body  acidity\n",
       "count  7500.00      7500.00  7500.00  6331.00  6331.00\n",
       "mean      4.25       451.11    60.10     4.16     2.95\n",
       "std       0.12       723.00   150.36     0.58     0.25\n",
       "min       4.20        25.00     4.99     2.00     1.00\n",
       "25%       4.20       389.00    18.90     4.00     3.00\n",
       "50%       4.20       404.00    28.53     4.00     3.00\n",
       "75%       4.20       415.00    51.35     5.00     3.00\n",
       "max       4.90     32624.00  3119.08     5.00     3.00"
      ]
     },
     "execution_count": 45,
     "metadata": {},
     "output_type": "execute_result"
    }
   ],
   "source": [
    "data.describe().round(2)"
   ]
  },
  {
   "cell_type": "code",
   "execution_count": 53,
   "metadata": {},
   "outputs": [
    {
     "data": {
      "text/html": [
       "<div>\n",
       "<style scoped>\n",
       "    .dataframe tbody tr th:only-of-type {\n",
       "        vertical-align: middle;\n",
       "    }\n",
       "\n",
       "    .dataframe tbody tr th {\n",
       "        vertical-align: top;\n",
       "    }\n",
       "\n",
       "    .dataframe thead th {\n",
       "        text-align: right;\n",
       "    }\n",
       "</style>\n",
       "<table border=\"1\" class=\"dataframe\">\n",
       "  <thead>\n",
       "    <tr style=\"text-align: right;\">\n",
       "      <th></th>\n",
       "      <th>rating</th>\n",
       "      <th>num_reviews</th>\n",
       "      <th>price</th>\n",
       "      <th>body</th>\n",
       "      <th>acidity</th>\n",
       "    </tr>\n",
       "  </thead>\n",
       "  <tbody>\n",
       "    <tr>\n",
       "      <th>count</th>\n",
       "      <td>6331.00</td>\n",
       "      <td>6331.00</td>\n",
       "      <td>6331.00</td>\n",
       "      <td>6331.00</td>\n",
       "      <td>6331.00</td>\n",
       "    </tr>\n",
       "    <tr>\n",
       "      <th>mean</th>\n",
       "      <td>4.26</td>\n",
       "      <td>444.14</td>\n",
       "      <td>65.71</td>\n",
       "      <td>4.16</td>\n",
       "      <td>2.95</td>\n",
       "    </tr>\n",
       "    <tr>\n",
       "      <th>std</th>\n",
       "      <td>0.12</td>\n",
       "      <td>734.10</td>\n",
       "      <td>162.64</td>\n",
       "      <td>0.58</td>\n",
       "      <td>0.25</td>\n",
       "    </tr>\n",
       "    <tr>\n",
       "      <th>min</th>\n",
       "      <td>4.20</td>\n",
       "      <td>25.00</td>\n",
       "      <td>4.99</td>\n",
       "      <td>2.00</td>\n",
       "      <td>1.00</td>\n",
       "    </tr>\n",
       "    <tr>\n",
       "      <th>25%</th>\n",
       "      <td>4.20</td>\n",
       "      <td>388.00</td>\n",
       "      <td>19.98</td>\n",
       "      <td>4.00</td>\n",
       "      <td>3.00</td>\n",
       "    </tr>\n",
       "    <tr>\n",
       "      <th>50%</th>\n",
       "      <td>4.20</td>\n",
       "      <td>402.00</td>\n",
       "      <td>29.15</td>\n",
       "      <td>4.00</td>\n",
       "      <td>3.00</td>\n",
       "    </tr>\n",
       "    <tr>\n",
       "      <th>75%</th>\n",
       "      <td>4.20</td>\n",
       "      <td>415.00</td>\n",
       "      <td>60.95</td>\n",
       "      <td>5.00</td>\n",
       "      <td>3.00</td>\n",
       "    </tr>\n",
       "    <tr>\n",
       "      <th>max</th>\n",
       "      <td>4.90</td>\n",
       "      <td>32624.00</td>\n",
       "      <td>3119.08</td>\n",
       "      <td>5.00</td>\n",
       "      <td>3.00</td>\n",
       "    </tr>\n",
       "  </tbody>\n",
       "</table>\n",
       "</div>"
      ],
      "text/plain": [
       "        rating  num_reviews    price     body  acidity\n",
       "count  6331.00      6331.00  6331.00  6331.00  6331.00\n",
       "mean      4.26       444.14    65.71     4.16     2.95\n",
       "std       0.12       734.10   162.64     0.58     0.25\n",
       "min       4.20        25.00     4.99     2.00     1.00\n",
       "25%       4.20       388.00    19.98     4.00     3.00\n",
       "50%       4.20       402.00    29.15     4.00     3.00\n",
       "75%       4.20       415.00    60.95     5.00     3.00\n",
       "max       4.90     32624.00  3119.08     5.00     3.00"
      ]
     },
     "execution_count": 53,
     "metadata": {},
     "output_type": "execute_result"
    }
   ],
   "source": [
    "data[data['acidity'].notnull()].describe().round(2)"
   ]
  },
  {
   "cell_type": "code",
   "execution_count": 56,
   "metadata": {},
   "outputs": [
    {
     "data": {
      "text/html": [
       "<div>\n",
       "<style scoped>\n",
       "    .dataframe tbody tr th:only-of-type {\n",
       "        vertical-align: middle;\n",
       "    }\n",
       "\n",
       "    .dataframe tbody tr th {\n",
       "        vertical-align: top;\n",
       "    }\n",
       "\n",
       "    .dataframe thead th {\n",
       "        text-align: right;\n",
       "    }\n",
       "</style>\n",
       "<table border=\"1\" class=\"dataframe\">\n",
       "  <thead>\n",
       "    <tr style=\"text-align: right;\">\n",
       "      <th></th>\n",
       "      <th>rating</th>\n",
       "      <th>num_reviews</th>\n",
       "      <th>price</th>\n",
       "      <th>body</th>\n",
       "      <th>acidity</th>\n",
       "    </tr>\n",
       "  </thead>\n",
       "  <tbody>\n",
       "    <tr>\n",
       "      <th>count</th>\n",
       "      <td>-1169.000</td>\n",
       "      <td>-1169.000</td>\n",
       "      <td>-1169.000</td>\n",
       "      <td>0.000</td>\n",
       "      <td>0.000</td>\n",
       "    </tr>\n",
       "    <tr>\n",
       "      <th>mean</th>\n",
       "      <td>0.005</td>\n",
       "      <td>-6.969</td>\n",
       "      <td>5.614</td>\n",
       "      <td>0.002</td>\n",
       "      <td>0.003</td>\n",
       "    </tr>\n",
       "    <tr>\n",
       "      <th>std</th>\n",
       "      <td>0.002</td>\n",
       "      <td>11.098</td>\n",
       "      <td>12.283</td>\n",
       "      <td>-0.003</td>\n",
       "      <td>0.002</td>\n",
       "    </tr>\n",
       "    <tr>\n",
       "      <th>min</th>\n",
       "      <td>0.000</td>\n",
       "      <td>0.000</td>\n",
       "      <td>0.000</td>\n",
       "      <td>0.000</td>\n",
       "      <td>0.000</td>\n",
       "    </tr>\n",
       "    <tr>\n",
       "      <th>25%</th>\n",
       "      <td>0.000</td>\n",
       "      <td>-1.000</td>\n",
       "      <td>1.080</td>\n",
       "      <td>0.000</td>\n",
       "      <td>0.000</td>\n",
       "    </tr>\n",
       "    <tr>\n",
       "      <th>50%</th>\n",
       "      <td>0.000</td>\n",
       "      <td>-2.000</td>\n",
       "      <td>0.620</td>\n",
       "      <td>0.000</td>\n",
       "      <td>0.000</td>\n",
       "    </tr>\n",
       "    <tr>\n",
       "      <th>75%</th>\n",
       "      <td>0.000</td>\n",
       "      <td>0.000</td>\n",
       "      <td>9.600</td>\n",
       "      <td>0.000</td>\n",
       "      <td>0.000</td>\n",
       "    </tr>\n",
       "    <tr>\n",
       "      <th>max</th>\n",
       "      <td>0.000</td>\n",
       "      <td>0.000</td>\n",
       "      <td>0.000</td>\n",
       "      <td>0.000</td>\n",
       "      <td>0.000</td>\n",
       "    </tr>\n",
       "  </tbody>\n",
       "</table>\n",
       "</div>"
      ],
      "text/plain": [
       "         rating  num_reviews     price   body  acidity\n",
       "count -1169.000    -1169.000 -1169.000  0.000    0.000\n",
       "mean      0.005       -6.969     5.614  0.002    0.003\n",
       "std       0.002       11.098    12.283 -0.003    0.002\n",
       "min       0.000        0.000     0.000  0.000    0.000\n",
       "25%       0.000       -1.000     1.080  0.000    0.000\n",
       "50%       0.000       -2.000     0.620  0.000    0.000\n",
       "75%       0.000        0.000     9.600  0.000    0.000\n",
       "max       0.000        0.000     0.000  0.000    0.000"
      ]
     },
     "execution_count": 56,
     "metadata": {},
     "output_type": "execute_result"
    }
   ],
   "source": [
    "data[data['acidity'].notnull()].describe().round(2) - data.describe().round(3)"
   ]
  },
  {
   "attachments": {},
   "cell_type": "markdown",
   "metadata": {},
   "source": [
    "As we can see it is not advisable beacuse the difference in some characteristics would be high."
   ]
  },
  {
   "attachments": {},
   "cell_type": "markdown",
   "metadata": {},
   "source": [
    "# Q1: Why is the year an object data type if it should be an integer?"
   ]
  },
  {
   "cell_type": "code",
   "execution_count": 6,
   "metadata": {},
   "outputs": [
    {
     "data": {
      "text/plain": [
       "array(['2013', '2018', '2009', '1999', '1996', '1998', '2010', '1995',\n",
       "       '2015', '2011', '2016', '1970', '1946', '1962', '2019', '2004',\n",
       "       'N.V.', '1931', '1979', '2005', '2020', '2014', '1985', '1929',\n",
       "       '2007', '2012', '2017', '2008', nan, '2006', '2000', '2003',\n",
       "       '2002', '1991', '1994', '1990', '1989', '1987', '1986', '1981',\n",
       "       '2001', '1968', '1964', '1982', '1974', '1983', '1955', '1980',\n",
       "       '1972', '1953', '1958', '1942', '1965', '1992', '1973', '1997',\n",
       "       '1967', '1975', '1910', '1961', '1954', '1988', '1969', '1951',\n",
       "       '1928', '1976', '1949', '2021', '1959', '1922', '1978', '1925'],\n",
       "      dtype=object)"
      ]
     },
     "execution_count": 6,
     "metadata": {},
     "output_type": "execute_result"
    }
   ],
   "source": [
    "data['year'].unique()"
   ]
  },
  {
   "attachments": {},
   "cell_type": "markdown",
   "metadata": {},
   "source": [
    "It is observed that there are null values and the value \"N.V.\", which should be observed to which registers it belongs and evaluate some actions to be done."
   ]
  },
  {
   "attachments": {},
   "cell_type": "markdown",
   "metadata": {},
   "source": [
    "# Q2: To which registry does \"N.V\" belongs?"
   ]
  },
  {
   "cell_type": "code",
   "execution_count": 7,
   "metadata": {},
   "outputs": [
    {
     "data": {
      "text/html": [
       "<div>\n",
       "<style scoped>\n",
       "    .dataframe tbody tr th:only-of-type {\n",
       "        vertical-align: middle;\n",
       "    }\n",
       "\n",
       "    .dataframe tbody tr th {\n",
       "        vertical-align: top;\n",
       "    }\n",
       "\n",
       "    .dataframe thead th {\n",
       "        text-align: right;\n",
       "    }\n",
       "</style>\n",
       "<table border=\"1\" class=\"dataframe\">\n",
       "  <thead>\n",
       "    <tr style=\"text-align: right;\">\n",
       "      <th></th>\n",
       "      <th>winery</th>\n",
       "      <th>wine</th>\n",
       "      <th>year</th>\n",
       "      <th>rating</th>\n",
       "      <th>num_reviews</th>\n",
       "      <th>country</th>\n",
       "      <th>region</th>\n",
       "      <th>price</th>\n",
       "      <th>type</th>\n",
       "      <th>body</th>\n",
       "      <th>acidity</th>\n",
       "    </tr>\n",
       "  </thead>\n",
       "  <tbody>\n",
       "    <tr>\n",
       "      <th>20</th>\n",
       "      <td>Valdespino</td>\n",
       "      <td>Toneles Moscatel</td>\n",
       "      <td>N.V.</td>\n",
       "      <td>4.8</td>\n",
       "      <td>174</td>\n",
       "      <td>Espana</td>\n",
       "      <td>Jerez-Xeres-Sherry</td>\n",
       "      <td>253.00</td>\n",
       "      <td>Sherry</td>\n",
       "      <td>4.0</td>\n",
       "      <td>3.0</td>\n",
       "    </tr>\n",
       "    <tr>\n",
       "      <th>133</th>\n",
       "      <td>Barbadillo</td>\n",
       "      <td>Reliquia Palo Cortado Sherry</td>\n",
       "      <td>N.V.</td>\n",
       "      <td>4.7</td>\n",
       "      <td>58</td>\n",
       "      <td>Espana</td>\n",
       "      <td>Jerez Palo Cortado</td>\n",
       "      <td>380.00</td>\n",
       "      <td>Sherry</td>\n",
       "      <td>4.0</td>\n",
       "      <td>3.0</td>\n",
       "    </tr>\n",
       "    <tr>\n",
       "      <th>142</th>\n",
       "      <td>Alvear</td>\n",
       "      <td>Abuelo Diego Palo Cortado</td>\n",
       "      <td>N.V.</td>\n",
       "      <td>4.7</td>\n",
       "      <td>42</td>\n",
       "      <td>Espana</td>\n",
       "      <td>Montilla-Moriles</td>\n",
       "      <td>114.28</td>\n",
       "      <td>Pedro Ximenez</td>\n",
       "      <td>5.0</td>\n",
       "      <td>1.0</td>\n",
       "    </tr>\n",
       "    <tr>\n",
       "      <th>143</th>\n",
       "      <td>Equipo Navazos</td>\n",
       "      <td>La Bota 78 de Oloroso</td>\n",
       "      <td>N.V.</td>\n",
       "      <td>4.7</td>\n",
       "      <td>41</td>\n",
       "      <td>Espana</td>\n",
       "      <td>Manzanilla</td>\n",
       "      <td>95.57</td>\n",
       "      <td>Sherry</td>\n",
       "      <td>4.0</td>\n",
       "      <td>3.0</td>\n",
       "    </tr>\n",
       "    <tr>\n",
       "      <th>267</th>\n",
       "      <td>Osborne</td>\n",
       "      <td>Solera India Oloroso Rare Sherry</td>\n",
       "      <td>N.V.</td>\n",
       "      <td>4.6</td>\n",
       "      <td>74</td>\n",
       "      <td>Espana</td>\n",
       "      <td>Jerez-Xeres-Sherry</td>\n",
       "      <td>189.99</td>\n",
       "      <td>Sherry</td>\n",
       "      <td>4.0</td>\n",
       "      <td>3.0</td>\n",
       "    </tr>\n",
       "    <tr>\n",
       "      <th>...</th>\n",
       "      <td>...</td>\n",
       "      <td>...</td>\n",
       "      <td>...</td>\n",
       "      <td>...</td>\n",
       "      <td>...</td>\n",
       "      <td>...</td>\n",
       "      <td>...</td>\n",
       "      <td>...</td>\n",
       "      <td>...</td>\n",
       "      <td>...</td>\n",
       "      <td>...</td>\n",
       "    </tr>\n",
       "    <tr>\n",
       "      <th>7388</th>\n",
       "      <td>Lustau</td>\n",
       "      <td>Candela Cream Dulce Sweet</td>\n",
       "      <td>N.V.</td>\n",
       "      <td>4.2</td>\n",
       "      <td>405</td>\n",
       "      <td>Espana</td>\n",
       "      <td>Jerez-Xeres-Sherry</td>\n",
       "      <td>7.10</td>\n",
       "      <td>Sherry</td>\n",
       "      <td>4.0</td>\n",
       "      <td>3.0</td>\n",
       "    </tr>\n",
       "    <tr>\n",
       "      <th>7413</th>\n",
       "      <td>Lustau</td>\n",
       "      <td>Candela Cream Dulce Sweet</td>\n",
       "      <td>N.V.</td>\n",
       "      <td>4.2</td>\n",
       "      <td>405</td>\n",
       "      <td>Espana</td>\n",
       "      <td>Jerez-Xeres-Sherry</td>\n",
       "      <td>7.10</td>\n",
       "      <td>Sherry</td>\n",
       "      <td>4.0</td>\n",
       "      <td>3.0</td>\n",
       "    </tr>\n",
       "    <tr>\n",
       "      <th>7438</th>\n",
       "      <td>Lustau</td>\n",
       "      <td>Candela Cream Dulce Sweet</td>\n",
       "      <td>N.V.</td>\n",
       "      <td>4.2</td>\n",
       "      <td>405</td>\n",
       "      <td>Espana</td>\n",
       "      <td>Jerez-Xeres-Sherry</td>\n",
       "      <td>7.10</td>\n",
       "      <td>Sherry</td>\n",
       "      <td>4.0</td>\n",
       "      <td>3.0</td>\n",
       "    </tr>\n",
       "    <tr>\n",
       "      <th>7463</th>\n",
       "      <td>Lustau</td>\n",
       "      <td>Candela Cream Dulce Sweet</td>\n",
       "      <td>N.V.</td>\n",
       "      <td>4.2</td>\n",
       "      <td>405</td>\n",
       "      <td>Espana</td>\n",
       "      <td>Jerez-Xeres-Sherry</td>\n",
       "      <td>7.10</td>\n",
       "      <td>Sherry</td>\n",
       "      <td>4.0</td>\n",
       "      <td>3.0</td>\n",
       "    </tr>\n",
       "    <tr>\n",
       "      <th>7488</th>\n",
       "      <td>Lustau</td>\n",
       "      <td>Candela Cream Dulce Sweet</td>\n",
       "      <td>N.V.</td>\n",
       "      <td>4.2</td>\n",
       "      <td>405</td>\n",
       "      <td>Espana</td>\n",
       "      <td>Jerez-Xeres-Sherry</td>\n",
       "      <td>7.10</td>\n",
       "      <td>Sherry</td>\n",
       "      <td>4.0</td>\n",
       "      <td>3.0</td>\n",
       "    </tr>\n",
       "  </tbody>\n",
       "</table>\n",
       "<p>288 rows × 11 columns</p>\n",
       "</div>"
      ],
      "text/plain": [
       "              winery                              wine  year  rating  \\\n",
       "20        Valdespino                  Toneles Moscatel  N.V.     4.8   \n",
       "133       Barbadillo      Reliquia Palo Cortado Sherry  N.V.     4.7   \n",
       "142           Alvear         Abuelo Diego Palo Cortado  N.V.     4.7   \n",
       "143   Equipo Navazos             La Bota 78 de Oloroso  N.V.     4.7   \n",
       "267          Osborne  Solera India Oloroso Rare Sherry  N.V.     4.6   \n",
       "...              ...                               ...   ...     ...   \n",
       "7388          Lustau         Candela Cream Dulce Sweet  N.V.     4.2   \n",
       "7413          Lustau         Candela Cream Dulce Sweet  N.V.     4.2   \n",
       "7438          Lustau         Candela Cream Dulce Sweet  N.V.     4.2   \n",
       "7463          Lustau         Candela Cream Dulce Sweet  N.V.     4.2   \n",
       "7488          Lustau         Candela Cream Dulce Sweet  N.V.     4.2   \n",
       "\n",
       "      num_reviews country              region   price           type  body  \\\n",
       "20            174  Espana  Jerez-Xeres-Sherry  253.00         Sherry   4.0   \n",
       "133            58  Espana  Jerez Palo Cortado  380.00         Sherry   4.0   \n",
       "142            42  Espana    Montilla-Moriles  114.28  Pedro Ximenez   5.0   \n",
       "143            41  Espana          Manzanilla   95.57         Sherry   4.0   \n",
       "267            74  Espana  Jerez-Xeres-Sherry  189.99         Sherry   4.0   \n",
       "...           ...     ...                 ...     ...            ...   ...   \n",
       "7388          405  Espana  Jerez-Xeres-Sherry    7.10         Sherry   4.0   \n",
       "7413          405  Espana  Jerez-Xeres-Sherry    7.10         Sherry   4.0   \n",
       "7438          405  Espana  Jerez-Xeres-Sherry    7.10         Sherry   4.0   \n",
       "7463          405  Espana  Jerez-Xeres-Sherry    7.10         Sherry   4.0   \n",
       "7488          405  Espana  Jerez-Xeres-Sherry    7.10         Sherry   4.0   \n",
       "\n",
       "      acidity  \n",
       "20        3.0  \n",
       "133       3.0  \n",
       "142       1.0  \n",
       "143       3.0  \n",
       "267       3.0  \n",
       "...       ...  \n",
       "7388      3.0  \n",
       "7413      3.0  \n",
       "7438      3.0  \n",
       "7463      3.0  \n",
       "7488      3.0  \n",
       "\n",
       "[288 rows x 11 columns]"
      ]
     },
     "execution_count": 7,
     "metadata": {},
     "output_type": "execute_result"
    }
   ],
   "source": [
    "data[data['year']==\"N.V.\"]"
   ]
  },
  {
   "cell_type": "code",
   "execution_count": 8,
   "metadata": {},
   "outputs": [
    {
     "data": {
      "text/plain": [
       "3.84"
      ]
     },
     "execution_count": 8,
     "metadata": {},
     "output_type": "execute_result"
    }
   ],
   "source": [
    "(len(data[data['year']==\"N.V.\"]) / len(data))*100 # 3.84%: The \"N.V.\" values represent the 3.84% of the total.  "
   ]
  },
  {
   "cell_type": "code",
   "execution_count": 9,
   "metadata": {},
   "outputs": [
    {
     "data": {
      "text/plain": [
       "Contino                                 457\n",
       "Artadi                                  261\n",
       "La Rioja Alta                           254\n",
       "Sierra Cantabria                        237\n",
       "Matarromera                             232\n",
       "                                       ... \n",
       "Briego                                    1\n",
       "Guillem Carol - Cellers Carol Valles      1\n",
       "Particular                                1\n",
       "Bodegas Asenjo & Manso                    1\n",
       "Joan Simo                                 1\n",
       "Name: winery, Length: 480, dtype: int64"
      ]
     },
     "execution_count": 9,
     "metadata": {},
     "output_type": "execute_result"
    }
   ],
   "source": [
    "data['winery'].value_counts()"
   ]
  },
  {
   "cell_type": "code",
   "execution_count": 10,
   "metadata": {},
   "outputs": [
    {
     "data": {
      "text/plain": [
       "Lustau                     77.430556\n",
       "Bodegas Tradicion           1.736111\n",
       "Osborne                     1.736111\n",
       "Williams & Humbert          1.388889\n",
       "Romate                      1.388889\n",
       "Gonzalez-Byass              1.041667\n",
       "Valdespino                  1.041667\n",
       "Equipo Navazos              1.041667\n",
       "Juan Pinero                 0.694444\n",
       "Harveys                     0.694444\n",
       "St. Petroni                 0.694444\n",
       "Alvear                      0.694444\n",
       "Altanza                     0.694444\n",
       "El Maestro Sierra           0.694444\n",
       "Alvaro Domecq               0.694444\n",
       "Sacristia AB                0.694444\n",
       "Hidalgo (La Gitana)         0.347222\n",
       "Perez Barquero              0.347222\n",
       "Santa Petronila             0.347222\n",
       "Felix Solis                 0.347222\n",
       "Bodegas Yzaguirre           0.347222\n",
       "Bodegas Ximenez-Spinola     0.347222\n",
       "Bodegas Arfe                0.347222\n",
       "M. Antonio de la Riva       0.347222\n",
       "Balandro                    0.347222\n",
       "Tio Pepe                    0.347222\n",
       "Vinos Guerra                0.347222\n",
       "Bodegas Urium               0.347222\n",
       "Callejuela                  0.347222\n",
       "De Muller                   0.347222\n",
       "Diez Merito                 0.347222\n",
       "Barbadillo                  0.347222\n",
       "Fernandez Gao               0.347222\n",
       "Delgado Zuleta              0.347222\n",
       "Cayetano del Pino           0.347222\n",
       "Emilio Hidalgo              0.347222\n",
       "Bodegas Yuste               0.347222\n",
       "Fernando de Castilla        0.347222\n",
       "Name: winery, dtype: float64"
      ]
     },
     "execution_count": 10,
     "metadata": {},
     "output_type": "execute_result"
    }
   ],
   "source": [
    "(data[data['year']==\"N.V.\"]['winery'].value_counts() / len(data[data['year']==\"N.V.\"]))*100 "
   ]
  },
  {
   "attachments": {},
   "cell_type": "markdown",
   "metadata": {},
   "source": [
    "Lustau represents 77.43% of data where \"year\"==\"N.V.\""
   ]
  },
  {
   "attachments": {},
   "cell_type": "markdown",
   "metadata": {},
   "source": [
    "## Analyse Lustau winery"
   ]
  },
  {
   "attachments": {},
   "cell_type": "markdown",
   "metadata": {},
   "source": [
    "### Analyse wine in Lustau Winery"
   ]
  },
  {
   "cell_type": "code",
   "execution_count": 16,
   "metadata": {},
   "outputs": [
    {
     "data": {
      "text/plain": [
       "Candela Cream Dulce Sweet                         220\n",
       "Pedro Ximenez Murillo Seleccion del Centenario      1\n",
       "Jerez-Xeres-Sherry 30 Year Old Oloroso VORS         1\n",
       "Vermut Rojo                                         1\n",
       "Name: wine, dtype: int64"
      ]
     },
     "execution_count": 16,
     "metadata": {},
     "output_type": "execute_result"
    }
   ],
   "source": [
    "data[data['winery']=='Lustau']['wine'].value_counts()"
   ]
  },
  {
   "attachments": {},
   "cell_type": "markdown",
   "metadata": {},
   "source": [
    "### Analyse years in Lustau Winery"
   ]
  },
  {
   "cell_type": "code",
   "execution_count": 23,
   "metadata": {},
   "outputs": [
    {
     "data": {
      "text/plain": [
       "N.V.    223\n",
       "Name: year, dtype: int64"
      ]
     },
     "execution_count": 23,
     "metadata": {},
     "output_type": "execute_result"
    }
   ],
   "source": [
    "data[data['winery']=='Lustau']['year'].value_counts()"
   ]
  },
  {
   "attachments": {},
   "cell_type": "markdown",
   "metadata": {},
   "source": [
    "100% of the year data in Lustau Winery is \"N.V.\""
   ]
  },
  {
   "attachments": {},
   "cell_type": "markdown",
   "metadata": {},
   "source": [
    "### Analyse region in Lustau Winery"
   ]
  },
  {
   "cell_type": "code",
   "execution_count": 18,
   "metadata": {},
   "outputs": [
    {
     "data": {
      "text/plain": [
       "Jerez-Xeres-Sherry    223\n",
       "Name: region, dtype: int64"
      ]
     },
     "execution_count": 18,
     "metadata": {},
     "output_type": "execute_result"
    }
   ],
   "source": [
    "data[data['winery']=='Lustau']['region'].value_counts()"
   ]
  },
  {
   "attachments": {},
   "cell_type": "markdown",
   "metadata": {},
   "source": [
    "### Analyse type in Lustau Winery"
   ]
  },
  {
   "cell_type": "code",
   "execution_count": 19,
   "metadata": {},
   "outputs": [
    {
     "data": {
      "text/plain": [
       "Sherry           221\n",
       "Pedro Ximenez      1\n",
       "Name: type, dtype: int64"
      ]
     },
     "execution_count": 19,
     "metadata": {},
     "output_type": "execute_result"
    }
   ],
   "source": [
    "data[data['winery']=='Lustau']['type'].value_counts()"
   ]
  },
  {
   "attachments": {},
   "cell_type": "markdown",
   "metadata": {},
   "source": [
    "### Validate if it is possible to make an inference of the year from other parameters"
   ]
  },
  {
   "cell_type": "code",
   "execution_count": 24,
   "metadata": {},
   "outputs": [
    {
     "name": "stderr",
     "output_type": "stream",
     "text": [
      "/tmp/ipykernel_255/1822371770.py:1: FutureWarning: The default value of numeric_only in DataFrame.corr is deprecated. In a future version, it will default to False. Select only valid columns or specify the value of numeric_only to silence this warning.\n",
      "  data[['year','body','acidity']].corr()\n"
     ]
    },
    {
     "data": {
      "text/html": [
       "<div>\n",
       "<style scoped>\n",
       "    .dataframe tbody tr th:only-of-type {\n",
       "        vertical-align: middle;\n",
       "    }\n",
       "\n",
       "    .dataframe tbody tr th {\n",
       "        vertical-align: top;\n",
       "    }\n",
       "\n",
       "    .dataframe thead th {\n",
       "        text-align: right;\n",
       "    }\n",
       "</style>\n",
       "<table border=\"1\" class=\"dataframe\">\n",
       "  <thead>\n",
       "    <tr style=\"text-align: right;\">\n",
       "      <th></th>\n",
       "      <th>body</th>\n",
       "      <th>acidity</th>\n",
       "    </tr>\n",
       "  </thead>\n",
       "  <tbody>\n",
       "    <tr>\n",
       "      <th>body</th>\n",
       "      <td>1.00000</td>\n",
       "      <td>-0.01795</td>\n",
       "    </tr>\n",
       "    <tr>\n",
       "      <th>acidity</th>\n",
       "      <td>-0.01795</td>\n",
       "      <td>1.00000</td>\n",
       "    </tr>\n",
       "  </tbody>\n",
       "</table>\n",
       "</div>"
      ],
      "text/plain": [
       "            body  acidity\n",
       "body     1.00000 -0.01795\n",
       "acidity -0.01795  1.00000"
      ]
     },
     "execution_count": 24,
     "metadata": {},
     "output_type": "execute_result"
    }
   ],
   "source": [
    "data[['year','body','acidity']].corr()"
   ]
  },
  {
   "cell_type": "code",
   "execution_count": null,
   "metadata": {},
   "outputs": [],
   "source": []
  }
 ],
 "metadata": {
  "kernelspec": {
   "display_name": "Python 3.9.13 ('wine_model')",
   "language": "python",
   "name": "python3"
  },
  "language_info": {
   "codemirror_mode": {
    "name": "ipython",
    "version": 3
   },
   "file_extension": ".py",
   "mimetype": "text/x-python",
   "name": "python",
   "nbconvert_exporter": "python",
   "pygments_lexer": "ipython3",
   "version": "3.9.13"
  },
  "orig_nbformat": 4,
  "vscode": {
   "interpreter": {
    "hash": "3cf573ff49d93c5ed50869cee264a81bd4c9c8674e02f9e227694136daee8bdf"
   }
  }
 },
 "nbformat": 4,
 "nbformat_minor": 2
}
